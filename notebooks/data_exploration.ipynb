{
 "cells": [
  {
   "cell_type": "code",
   "execution_count": null,
   "metadata": {},
   "outputs": [],
   "source": [
    "import pandas as pd \n",
    "import plotly.express as px\n"
   ]
  },
  {
   "cell_type": "code",
   "execution_count": null,
   "metadata": {},
   "outputs": [],
   "source": [
    "homie_bool = pd.read_csv('data/homie_boolean.csv')\n",
    "homie_color = pd.read_csv('data/homie_color.csv')\n",
    "homie_enum = pd.read_csv('data/homie_enum.csv')"
   ]
  },
  {
   "cell_type": "code",
   "execution_count": null,
   "metadata": {},
   "outputs": [],
   "source": [
    "# warning: don't load these they are huge!\n",
    "# homie_float = pd.read_csv('data/homie_float.csv')\n",
    "# homie_integer = pd.read_csv('data/homie_integer.csv')"
   ]
  },
  {
   "cell_type": "markdown",
   "metadata": {},
   "source": [
    "**Useful Information about dataset:** <br>\n",
    "\n",
    "There are between 4 and 10 data points per sensor per minute, depending on how often a sensor gets polled (~ 10K data points in a 24h period for a given sensor)\n",
    "\n",
    "the csv files are split by data type: <br>\n",
    "- homie_boolean\n",
    "- homie_enum\n",
    "- homie_float: contains all metrics stored as floats (temperature)\n",
    "- homie_integer: contains all metrics stored as integers (humidity %, battery level %)\n",
    "\n",
    "dataset columns:<br>\n",
    "- time: milliseconds since epoch (unix epoch 1970)\n",
    "- device_id \n",
    "- device_name: only use data with device containing raspberry pi or cottage pi\n",
    "- node_id: mac address of the sensor\n",
    "- node_type==\"Mijia sensor\" -> useful filter?\n",
    "\n",
    "\n"
   ]
  },
  {
   "cell_type": "code",
   "execution_count": null,
   "metadata": {},
   "outputs": [],
   "source": [
    "def downsample_mijia_temp_data():\n",
    "    homie_float = pd.read_csv('data/homie_float.csv')\n",
    "    homie_float['time'] = pd.to_datetime(homie_float['time'])\n",
    "    df = homie_float.loc[(homie_float['node_type']=='Mijia sensor')].copy()\n",
    "    downsampled = df.set_index('time').groupby(['node_name']).resample('1min')['value'].mean().reset_index()\n",
    "    downsampled.rename(columns={'value':'temperature'}, inplace=True)\n",
    "    return downsampled"
   ]
  },
  {
   "cell_type": "code",
   "execution_count": null,
   "metadata": {},
   "outputs": [],
   "source": [
    "def downsample_mijia_humidity_data():\n",
    "    homie_integer = pd.read_csv('data/homie_integer.csv')\n",
    "    homie_integer['time'] = pd.to_datetime(homie_integer['time'])\n",
    "    df = homie_integer.loc[(homie_integer['node_type']=='Mijia sensor')].copy()\n",
    "    df = df.loc[df['property_name']=='Humidity'].copy()\n",
    "    downsampled = df.set_index('time').groupby(['node_name']).resample('1min')['value'].median().reset_index()\n",
    "    downsampled.rename(columns={'value':'humidity'}, inplace=True)\n",
    "    return downsampled\n"
   ]
  },
  {
   "cell_type": "code",
   "execution_count": null,
   "metadata": {},
   "outputs": [],
   "source": [
    "def build_dataset():\n",
    "    downsampled_temps = downsample_mijia_temp_data()\n",
    "    downsampled_humidity = downsample_mijia_humidity_data()\n",
    "    result = pd.merge(downsampled_temps, downsampled_humidity, on=['node_name', 'time'])\n",
    "    return result"
   ]
  },
  {
   "cell_type": "code",
   "execution_count": null,
   "metadata": {},
   "outputs": [],
   "source": [
    "dataset = build_dataset()"
   ]
  },
  {
   "cell_type": "code",
   "execution_count": null,
   "metadata": {},
   "outputs": [],
   "source": [
    "def calculate_differential(df, number_minutes):\n",
    "    df[f'temp_{number_minutes}min_ago']= df.groupby('node_name')['temperature'].shift(number_minutes)\n",
    "    df[f'{number_minutes}min_differential'] = (df['temperature'] - df[f'temp_{number_minutes}min_ago'])/number_minutes\n",
    "    return df"
   ]
  },
  {
   "cell_type": "code",
   "execution_count": null,
   "metadata": {},
   "outputs": [],
   "source": [
    "dataset = calculate_differential(dataset, 10)"
   ]
  },
  {
   "cell_type": "code",
   "execution_count": null,
   "metadata": {},
   "outputs": [],
   "source": []
  },
  {
   "cell_type": "code",
   "execution_count": null,
   "metadata": {},
   "outputs": [],
   "source": [
    "dataset.head()"
   ]
  },
  {
   "cell_type": "code",
   "execution_count": null,
   "metadata": {},
   "outputs": [],
   "source": [
    "def plot_temp_variations(data): \n",
    "    df = data.loc[(data['time']>'2021-03-02 00:00:00.001')&\n",
    "                (data['time']<'2021-03-03 00:00:00.001')&\n",
    "                (data['node_name']=='Living room shelves')\n",
    "                ].copy()\n",
    "    midnight = pd.Timestamp('2021-03-02 00:00:00')\n",
    "    df['time_elapsed'] = df['time'].apply(lambda x: (x - midnight).seconds)\n",
    "\n",
    "    fig = px.scatter(df, x=\"10min_differential\", y=\"temperature\",color='time_elapsed', \n",
    "                title='temperature vs temperature differential', hover_name='time')\n",
    "    print(df.shape)\n",
    "    return fig.show()\n",
    "\n",
    "plot_temp_variations(dataset)"
   ]
  },
  {
   "cell_type": "code",
   "execution_count": null,
   "metadata": {},
   "outputs": [],
   "source": []
  },
  {
   "cell_type": "code",
   "execution_count": null,
   "metadata": {},
   "outputs": [],
   "source": [
    "homie_float.node_type.unique()"
   ]
  },
  {
   "cell_type": "code",
   "execution_count": null,
   "metadata": {},
   "outputs": [],
   "source": []
  }
 ],
 "metadata": {
  "kernelspec": {
   "display_name": "Python 3.9.2 64-bit",
   "metadata": {
    "interpreter": {
     "hash": "de3140ad81ba08929dc8d47238f6d45138469e1e91652694ab15112290a4cfb7"
    }
   },
   "name": "python3"
  },
  "language_info": {
   "codemirror_mode": {
    "name": "ipython",
    "version": 3
   },
   "file_extension": ".py",
   "mimetype": "text/x-python",
   "name": "python",
   "nbconvert_exporter": "python",
   "pygments_lexer": "ipython3",
   "version": "3.9.2-final"
  }
 },
 "nbformat": 4,
 "nbformat_minor": 2
}
